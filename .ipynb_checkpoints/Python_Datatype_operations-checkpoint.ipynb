{
 "cells": [
  {
   "cell_type": "markdown",
   "id": "afcda9a0",
   "metadata": {},
   "source": [
    "# Python Basics"
   ]
  },
  {
   "cell_type": "code",
   "execution_count": 1,
   "id": "89490add",
   "metadata": {},
   "outputs": [],
   "source": [
    "# Dictionary"
   ]
  },
  {
   "cell_type": "code",
   "execution_count": 2,
   "id": "7f2f1c23",
   "metadata": {},
   "outputs": [],
   "source": [
    "d1={\"k1\":12,\"k2\":13}"
   ]
  },
  {
   "cell_type": "code",
   "execution_count": 3,
   "id": "5b01c657",
   "metadata": {},
   "outputs": [
    {
     "data": {
      "text/plain": [
       "{'k1': 12, 'k2': 13}"
      ]
     },
     "execution_count": 3,
     "metadata": {},
     "output_type": "execute_result"
    }
   ],
   "source": [
    "d1"
   ]
  },
  {
   "cell_type": "code",
   "execution_count": 4,
   "id": "6bd234a7",
   "metadata": {},
   "outputs": [
    {
     "data": {
      "text/plain": [
       "dict_keys(['k1', 'k2'])"
      ]
     },
     "execution_count": 4,
     "metadata": {},
     "output_type": "execute_result"
    }
   ],
   "source": [
    "d1.keys()"
   ]
  },
  {
   "cell_type": "code",
   "execution_count": 5,
   "id": "85526c76",
   "metadata": {},
   "outputs": [
    {
     "data": {
      "text/plain": [
       "dict_items([('k1', 12), ('k2', 13)])"
      ]
     },
     "execution_count": 5,
     "metadata": {},
     "output_type": "execute_result"
    }
   ],
   "source": [
    "d1.items()"
   ]
  },
  {
   "cell_type": "code",
   "execution_count": 6,
   "id": "d9bf38f7",
   "metadata": {},
   "outputs": [
    {
     "data": {
      "text/plain": [
       "dict_values([12, 13])"
      ]
     },
     "execution_count": 6,
     "metadata": {},
     "output_type": "execute_result"
    }
   ],
   "source": [
    "d1.values()"
   ]
  },
  {
   "cell_type": "code",
   "execution_count": 7,
   "id": "265f9d7c",
   "metadata": {},
   "outputs": [],
   "source": [
    "# List Methods"
   ]
  },
  {
   "cell_type": "code",
   "execution_count": 8,
   "id": "5008fa5c",
   "metadata": {},
   "outputs": [],
   "source": [
    "list1=[1,2,3,4,5]"
   ]
  },
  {
   "cell_type": "code",
   "execution_count": 9,
   "id": "96137509",
   "metadata": {},
   "outputs": [],
   "source": [
    "t = list1.pop()"
   ]
  },
  {
   "cell_type": "code",
   "execution_count": 10,
   "id": "5cba79d1",
   "metadata": {},
   "outputs": [
    {
     "data": {
      "text/plain": [
       "5"
      ]
     },
     "execution_count": 10,
     "metadata": {},
     "output_type": "execute_result"
    }
   ],
   "source": [
    "t"
   ]
  },
  {
   "cell_type": "code",
   "execution_count": 11,
   "id": "f751d97b",
   "metadata": {},
   "outputs": [
    {
     "data": {
      "text/plain": [
       "[1, 2, 3, 4]"
      ]
     },
     "execution_count": 11,
     "metadata": {},
     "output_type": "execute_result"
    }
   ],
   "source": [
    "list1"
   ]
  },
  {
   "cell_type": "code",
   "execution_count": 12,
   "id": "5d355634",
   "metadata": {},
   "outputs": [],
   "source": [
    "list1.append(6)"
   ]
  },
  {
   "cell_type": "code",
   "execution_count": 13,
   "id": "eca7cf5d",
   "metadata": {},
   "outputs": [
    {
     "data": {
      "text/plain": [
       "[1, 2, 3, 4, 6]"
      ]
     },
     "execution_count": 13,
     "metadata": {},
     "output_type": "execute_result"
    }
   ],
   "source": [
    "list1"
   ]
  },
  {
   "cell_type": "code",
   "execution_count": 14,
   "id": "613cf7f2",
   "metadata": {},
   "outputs": [
    {
     "data": {
      "text/plain": [
       "1"
      ]
     },
     "execution_count": 14,
     "metadata": {},
     "output_type": "execute_result"
    }
   ],
   "source": [
    "list1.pop(0)"
   ]
  },
  {
   "cell_type": "code",
   "execution_count": 15,
   "id": "0c1c6266",
   "metadata": {},
   "outputs": [
    {
     "data": {
      "text/plain": [
       "[2, 3, 4, 6]"
      ]
     },
     "execution_count": 15,
     "metadata": {},
     "output_type": "execute_result"
    }
   ],
   "source": [
    "list1"
   ]
  },
  {
   "cell_type": "code",
   "execution_count": 16,
   "id": "a61ba226",
   "metadata": {},
   "outputs": [],
   "source": [
    "# 'in' operator"
   ]
  },
  {
   "cell_type": "code",
   "execution_count": 17,
   "id": "9cb66aba",
   "metadata": {},
   "outputs": [
    {
     "data": {
      "text/plain": [
       "False"
      ]
     },
     "execution_count": 17,
     "metadata": {},
     "output_type": "execute_result"
    }
   ],
   "source": [
    "'list1' in [1,4,5]"
   ]
  },
  {
   "cell_type": "code",
   "execution_count": 18,
   "id": "e3a1cadc",
   "metadata": {},
   "outputs": [
    {
     "data": {
      "text/plain": [
       "False"
      ]
     },
     "execution_count": 18,
     "metadata": {},
     "output_type": "execute_result"
    }
   ],
   "source": [
    "'list1' in [2,3,4]"
   ]
  },
  {
   "cell_type": "code",
   "execution_count": 19,
   "id": "c819cb25",
   "metadata": {},
   "outputs": [
    {
     "data": {
      "text/plain": [
       "True"
      ]
     },
     "execution_count": 19,
     "metadata": {},
     "output_type": "execute_result"
    }
   ],
   "source": [
    "'list1' in ['list1','list2','list3']"
   ]
  },
  {
   "cell_type": "code",
   "execution_count": 20,
   "id": "d94b7e50",
   "metadata": {},
   "outputs": [],
   "source": [
    "# Tuple unpacking"
   ]
  },
  {
   "cell_type": "code",
   "execution_count": 21,
   "id": "51eab258",
   "metadata": {},
   "outputs": [],
   "source": [
    "x = [(1,2),(3,4),(5,6)]"
   ]
  },
  {
   "cell_type": "code",
   "execution_count": 22,
   "id": "36956d5c",
   "metadata": {},
   "outputs": [
    {
     "data": {
      "text/plain": [
       "(1, 2)"
      ]
     },
     "execution_count": 22,
     "metadata": {},
     "output_type": "execute_result"
    }
   ],
   "source": [
    "x[0]"
   ]
  },
  {
   "cell_type": "code",
   "execution_count": 23,
   "id": "255246b2",
   "metadata": {},
   "outputs": [
    {
     "data": {
      "text/plain": [
       "2"
      ]
     },
     "execution_count": 23,
     "metadata": {},
     "output_type": "execute_result"
    }
   ],
   "source": [
    "x[0][1]"
   ]
  },
  {
   "cell_type": "code",
   "execution_count": 24,
   "id": "cd190209",
   "metadata": {},
   "outputs": [
    {
     "name": "stdout",
     "output_type": "stream",
     "text": [
      "(1, 2)\n",
      "(3, 4)\n",
      "(5, 6)\n"
     ]
    }
   ],
   "source": [
    "for items in x:\n",
    "    print(items)"
   ]
  },
  {
   "cell_type": "code",
   "execution_count": 25,
   "id": "ce8abcb6",
   "metadata": {},
   "outputs": [
    {
     "name": "stdout",
     "output_type": "stream",
     "text": [
      "1\n",
      "2\n",
      "3\n",
      "4\n",
      "5\n",
      "6\n"
     ]
    }
   ],
   "source": [
    "for (a,b) in x:\n",
    "    print(a)\n",
    "    print(b)"
   ]
  },
  {
   "cell_type": "code",
   "execution_count": 26,
   "id": "544d39cc",
   "metadata": {},
   "outputs": [],
   "source": [
    "# Exercises"
   ]
  },
  {
   "cell_type": "code",
   "execution_count": 27,
   "id": "a673d606",
   "metadata": {},
   "outputs": [
    {
     "data": {
      "text/plain": [
       "2401"
      ]
     },
     "execution_count": 27,
     "metadata": {},
     "output_type": "execute_result"
    }
   ],
   "source": [
    "# What is 7 is to power 4 ?\n",
    "7**4"
   ]
  },
  {
   "cell_type": "code",
   "execution_count": 28,
   "id": "735a9aba",
   "metadata": {},
   "outputs": [
    {
     "data": {
      "text/plain": [
       "['Hi', 'there', 'Sam!']"
      ]
     },
     "execution_count": 28,
     "metadata": {},
     "output_type": "execute_result"
    }
   ],
   "source": [
    "# Convert the string into list\n",
    "s = \" Hi there Sam!\"\n",
    "s.split()"
   ]
  },
  {
   "cell_type": "code",
   "execution_count": 29,
   "id": "d91b08f0",
   "metadata": {},
   "outputs": [
    {
     "data": {
      "text/plain": [
       "[' Hi ', ' Sam!']"
      ]
     },
     "execution_count": 29,
     "metadata": {},
     "output_type": "execute_result"
    }
   ],
   "source": [
    "s.split('there')"
   ]
  },
  {
   "cell_type": "code",
   "execution_count": 30,
   "id": "68173b23",
   "metadata": {},
   "outputs": [
    {
     "data": {
      "text/plain": [
       "[' Hi there ', 'am!']"
      ]
     },
     "execution_count": 30,
     "metadata": {},
     "output_type": "execute_result"
    }
   ],
   "source": [
    "s.split('S')"
   ]
  },
  {
   "cell_type": "code",
   "execution_count": 31,
   "id": "8f125f0b",
   "metadata": {},
   "outputs": [],
   "source": [
    "#In the following dictionary print the word 'hello'\n",
    "d = {'k1':[1,2,3,{'tricky':['oh','man','inception',{'target':[1,2,3,'hello']}]}]}\n"
   ]
  },
  {
   "cell_type": "code",
   "execution_count": 32,
   "id": "503c969c",
   "metadata": {},
   "outputs": [
    {
     "data": {
      "text/plain": [
       "[1,\n",
       " 2,\n",
       " 3,\n",
       " {'tricky': ['oh', 'man', 'inception', {'target': [1, 2, 3, 'hello']}]}]"
      ]
     },
     "execution_count": 32,
     "metadata": {},
     "output_type": "execute_result"
    }
   ],
   "source": [
    "d['k1']"
   ]
  },
  {
   "cell_type": "code",
   "execution_count": 33,
   "id": "48ba2aa1",
   "metadata": {},
   "outputs": [
    {
     "data": {
      "text/plain": [
       "'hello'"
      ]
     },
     "execution_count": 33,
     "metadata": {},
     "output_type": "execute_result"
    }
   ],
   "source": [
    "d['k1'][3]['tricky'][3]['target'][3]"
   ]
  },
  {
   "cell_type": "code",
   "execution_count": 34,
   "id": "358da1d1",
   "metadata": {},
   "outputs": [],
   "source": [
    "# WAP to return the domain of a given email using functions\n",
    "def domainGet(email):\n",
    "    return email.split('@')[1]    "
   ]
  },
  {
   "cell_type": "code",
   "execution_count": 35,
   "id": "08b432a6",
   "metadata": {},
   "outputs": [
    {
     "data": {
      "text/plain": [
       "'gmail.com'"
      ]
     },
     "execution_count": 35,
     "metadata": {},
     "output_type": "execute_result"
    }
   ],
   "source": [
    "domainGet('jays73985@gmail.com')"
   ]
  },
  {
   "cell_type": "code",
   "execution_count": 36,
   "id": "40ce5954",
   "metadata": {},
   "outputs": [
    {
     "data": {
      "text/plain": [
       "'oriental.ac.in'"
      ]
     },
     "execution_count": 36,
     "metadata": {},
     "output_type": "execute_result"
    }
   ],
   "source": [
    "domainGet('0105CD211020@oriental.ac.in')"
   ]
  },
  {
   "cell_type": "code",
   "execution_count": 37,
   "id": "4c1a2f93",
   "metadata": {},
   "outputs": [],
   "source": [
    "#WAP to find the word 'dog' in a particular string or collection of string. Note that take the \n",
    "#capitalization of the word different from normal word.\n",
    "def findDog(sentence):\n",
    "    return 'dog' in sentence.lower().split()"
   ]
  },
  {
   "cell_type": "code",
   "execution_count": 38,
   "id": "446be45b",
   "metadata": {},
   "outputs": [
    {
     "data": {
      "text/plain": [
       "True"
      ]
     },
     "execution_count": 38,
     "metadata": {},
     "output_type": "execute_result"
    }
   ],
   "source": [
    "findDog('Is there a dog here?')"
   ]
  },
  {
   "cell_type": "code",
   "execution_count": 39,
   "id": "ed42a825",
   "metadata": {
    "scrolled": true
   },
   "outputs": [
    {
     "data": {
      "text/plain": [
       "False"
      ]
     },
     "execution_count": 39,
     "metadata": {},
     "output_type": "execute_result"
    }
   ],
   "source": [
    "findDog('Is there a cat here?')"
   ]
  },
  {
   "cell_type": "code",
   "execution_count": 54,
   "id": "e6195202",
   "metadata": {},
   "outputs": [
    {
     "data": {
      "text/plain": [
       "['soup', 'salad']"
      ]
     },
     "execution_count": 54,
     "metadata": {},
     "output_type": "execute_result"
    }
   ],
   "source": [
    "seq =['soup','dog','salad','cat','great']\n",
    "i=0\n",
    "list(filter(lambda x: x[i]=='s',seq))"
   ]
  },
  {
   "cell_type": "code",
   "execution_count": 42,
   "id": "7ec49c24",
   "metadata": {},
   "outputs": [],
   "source": [
    "def countDog(s):\n",
    "    count=0\n",
    "    for i in s.lower().split():\n",
    "        if i=='dog':\n",
    "            count+=1\n",
    "    return count"
   ]
  },
  {
   "cell_type": "code",
   "execution_count": 43,
   "id": "862e406d",
   "metadata": {},
   "outputs": [
    {
     "data": {
      "text/plain": [
       "2"
      ]
     },
     "execution_count": 43,
     "metadata": {},
     "output_type": "execute_result"
    }
   ],
   "source": [
    "countDog('This dog is faster than the other dog dude!')"
   ]
  },
  {
   "cell_type": "code",
   "execution_count": 44,
   "id": "ba18a0de",
   "metadata": {},
   "outputs": [],
   "source": [
    "def caught_speeding(speed,is_birthday):\n",
    "    \n",
    "    if is_birthday:\n",
    "        speeding=speed-5\n",
    "    else:\n",
    "        speeding=speed\n",
    "    \n",
    "    if speeding>80:\n",
    "        return 'Big Ticket'\n",
    "    elif speeding>60:\n",
    "        return 'Small Ticket'\n",
    "    else:\n",
    "        return 'No Ticket'\n",
    "    "
   ]
  },
  {
   "cell_type": "code",
   "execution_count": 45,
   "id": "97f19648",
   "metadata": {},
   "outputs": [
    {
     "data": {
      "text/plain": [
       "'Small Ticket'"
      ]
     },
     "execution_count": 45,
     "metadata": {},
     "output_type": "execute_result"
    }
   ],
   "source": [
    "caught_speeding(81,True)"
   ]
  },
  {
   "cell_type": "code",
   "execution_count": 46,
   "id": "4ffbb735",
   "metadata": {},
   "outputs": [
    {
     "data": {
      "text/plain": [
       "'Big Ticket'"
      ]
     },
     "execution_count": 46,
     "metadata": {},
     "output_type": "execute_result"
    }
   ],
   "source": [
    "caught_speeding(81,False)"
   ]
  },
  {
   "cell_type": "code",
   "execution_count": 47,
   "id": "5fe12736",
   "metadata": {},
   "outputs": [
    {
     "name": "stdout",
     "output_type": "stream",
     "text": [
      "The diameter of Earth is 12742 kilometers.\n"
     ]
    }
   ],
   "source": [
    "planet='Earth'\n",
    "diameter=12742\n",
    "print(\"The diameter of {one} is {two} kilometers.\".format(one=planet,two=diameter))"
   ]
  },
  {
   "cell_type": "code",
   "execution_count": 48,
   "id": "bb9d45b7",
   "metadata": {},
   "outputs": [],
   "source": [
    "lst = [1,2,[3,4],[5,[100,200,['hello']],23,11],1,7]"
   ]
  },
  {
   "cell_type": "code",
   "execution_count": 49,
   "id": "522a0e7f",
   "metadata": {},
   "outputs": [
    {
     "data": {
      "text/plain": [
       "'hello'"
      ]
     },
     "execution_count": 49,
     "metadata": {},
     "output_type": "execute_result"
    }
   ],
   "source": [
    "lst[3][1][2][0]"
   ]
  }
 ],
 "metadata": {
  "kernelspec": {
   "display_name": "Python 3 (ipykernel)",
   "language": "python",
   "name": "python3"
  },
  "language_info": {
   "codemirror_mode": {
    "name": "ipython",
    "version": 3
   },
   "file_extension": ".py",
   "mimetype": "text/x-python",
   "name": "python",
   "nbconvert_exporter": "python",
   "pygments_lexer": "ipython3",
   "version": "3.10.9"
  }
 },
 "nbformat": 4,
 "nbformat_minor": 5
}
